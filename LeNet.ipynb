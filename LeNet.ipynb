{
  "nbformat": 4,
  "nbformat_minor": 0,
  "metadata": {
    "colab": {
      "name": "LeNet.ipynb",
      "provenance": [],
      "collapsed_sections": [],
      "authorship_tag": "ABX9TyNyUtuEMIjPnYz4Ilbt2d2o",
      "include_colab_link": true
    },
    "kernelspec": {
      "name": "python3",
      "display_name": "Python 3"
    },
    "widgets": {
      "application/vnd.jupyter.widget-state+json": {
        "e9a4e33f4c354bb1954ca8efd55cf2fa": {
          "model_module": "@jupyter-widgets/controls",
          "model_name": "HBoxModel",
          "state": {
            "_view_name": "HBoxView",
            "_dom_classes": [],
            "_model_name": "HBoxModel",
            "_view_module": "@jupyter-widgets/controls",
            "_model_module_version": "1.5.0",
            "_view_count": null,
            "_view_module_version": "1.5.0",
            "box_style": "",
            "layout": "IPY_MODEL_1c6df55e50c04ca8895684bd73a37a7c",
            "_model_module": "@jupyter-widgets/controls",
            "children": [
              "IPY_MODEL_55bf241829f149eeae8402421985416f",
              "IPY_MODEL_b19f21967bea42978e3dd5410ab2133e"
            ]
          }
        },
        "1c6df55e50c04ca8895684bd73a37a7c": {
          "model_module": "@jupyter-widgets/base",
          "model_name": "LayoutModel",
          "state": {
            "_view_name": "LayoutView",
            "grid_template_rows": null,
            "right": null,
            "justify_content": null,
            "_view_module": "@jupyter-widgets/base",
            "overflow": null,
            "_model_module_version": "1.2.0",
            "_view_count": null,
            "flex_flow": null,
            "width": null,
            "min_width": null,
            "border": null,
            "align_items": null,
            "bottom": null,
            "_model_module": "@jupyter-widgets/base",
            "top": null,
            "grid_column": null,
            "overflow_y": null,
            "overflow_x": null,
            "grid_auto_flow": null,
            "grid_area": null,
            "grid_template_columns": null,
            "flex": null,
            "_model_name": "LayoutModel",
            "justify_items": null,
            "grid_row": null,
            "max_height": null,
            "align_content": null,
            "visibility": null,
            "align_self": null,
            "height": null,
            "min_height": null,
            "padding": null,
            "grid_auto_rows": null,
            "grid_gap": null,
            "max_width": null,
            "order": null,
            "_view_module_version": "1.2.0",
            "grid_template_areas": null,
            "object_position": null,
            "object_fit": null,
            "grid_auto_columns": null,
            "margin": null,
            "display": null,
            "left": null
          }
        },
        "55bf241829f149eeae8402421985416f": {
          "model_module": "@jupyter-widgets/controls",
          "model_name": "FloatProgressModel",
          "state": {
            "_view_name": "ProgressView",
            "style": "IPY_MODEL_81dc62b4ad624768be508364a863ac23",
            "_dom_classes": [],
            "description": "",
            "_model_name": "FloatProgressModel",
            "bar_style": "info",
            "max": 1,
            "_view_module": "@jupyter-widgets/controls",
            "_model_module_version": "1.5.0",
            "value": 1,
            "_view_count": null,
            "_view_module_version": "1.5.0",
            "orientation": "horizontal",
            "min": 0,
            "description_tooltip": null,
            "_model_module": "@jupyter-widgets/controls",
            "layout": "IPY_MODEL_bc8233f957ad4db0a910a25db914c5d0"
          }
        },
        "b19f21967bea42978e3dd5410ab2133e": {
          "model_module": "@jupyter-widgets/controls",
          "model_name": "HTMLModel",
          "state": {
            "_view_name": "HTMLView",
            "style": "IPY_MODEL_541bb520a3054ca99c0709c74885ce7e",
            "_dom_classes": [],
            "description": "",
            "_model_name": "HTMLModel",
            "placeholder": "​",
            "_view_module": "@jupyter-widgets/controls",
            "_model_module_version": "1.5.0",
            "value": " 170500096/? [00:20&lt;00:00, 49271864.22it/s]",
            "_view_count": null,
            "_view_module_version": "1.5.0",
            "description_tooltip": null,
            "_model_module": "@jupyter-widgets/controls",
            "layout": "IPY_MODEL_336acbb34e9548fe9b7d8a4bd269421f"
          }
        },
        "81dc62b4ad624768be508364a863ac23": {
          "model_module": "@jupyter-widgets/controls",
          "model_name": "ProgressStyleModel",
          "state": {
            "_view_name": "StyleView",
            "_model_name": "ProgressStyleModel",
            "description_width": "initial",
            "_view_module": "@jupyter-widgets/base",
            "_model_module_version": "1.5.0",
            "_view_count": null,
            "_view_module_version": "1.2.0",
            "bar_color": null,
            "_model_module": "@jupyter-widgets/controls"
          }
        },
        "bc8233f957ad4db0a910a25db914c5d0": {
          "model_module": "@jupyter-widgets/base",
          "model_name": "LayoutModel",
          "state": {
            "_view_name": "LayoutView",
            "grid_template_rows": null,
            "right": null,
            "justify_content": null,
            "_view_module": "@jupyter-widgets/base",
            "overflow": null,
            "_model_module_version": "1.2.0",
            "_view_count": null,
            "flex_flow": null,
            "width": null,
            "min_width": null,
            "border": null,
            "align_items": null,
            "bottom": null,
            "_model_module": "@jupyter-widgets/base",
            "top": null,
            "grid_column": null,
            "overflow_y": null,
            "overflow_x": null,
            "grid_auto_flow": null,
            "grid_area": null,
            "grid_template_columns": null,
            "flex": null,
            "_model_name": "LayoutModel",
            "justify_items": null,
            "grid_row": null,
            "max_height": null,
            "align_content": null,
            "visibility": null,
            "align_self": null,
            "height": null,
            "min_height": null,
            "padding": null,
            "grid_auto_rows": null,
            "grid_gap": null,
            "max_width": null,
            "order": null,
            "_view_module_version": "1.2.0",
            "grid_template_areas": null,
            "object_position": null,
            "object_fit": null,
            "grid_auto_columns": null,
            "margin": null,
            "display": null,
            "left": null
          }
        },
        "541bb520a3054ca99c0709c74885ce7e": {
          "model_module": "@jupyter-widgets/controls",
          "model_name": "DescriptionStyleModel",
          "state": {
            "_view_name": "StyleView",
            "_model_name": "DescriptionStyleModel",
            "description_width": "",
            "_view_module": "@jupyter-widgets/base",
            "_model_module_version": "1.5.0",
            "_view_count": null,
            "_view_module_version": "1.2.0",
            "_model_module": "@jupyter-widgets/controls"
          }
        },
        "336acbb34e9548fe9b7d8a4bd269421f": {
          "model_module": "@jupyter-widgets/base",
          "model_name": "LayoutModel",
          "state": {
            "_view_name": "LayoutView",
            "grid_template_rows": null,
            "right": null,
            "justify_content": null,
            "_view_module": "@jupyter-widgets/base",
            "overflow": null,
            "_model_module_version": "1.2.0",
            "_view_count": null,
            "flex_flow": null,
            "width": null,
            "min_width": null,
            "border": null,
            "align_items": null,
            "bottom": null,
            "_model_module": "@jupyter-widgets/base",
            "top": null,
            "grid_column": null,
            "overflow_y": null,
            "overflow_x": null,
            "grid_auto_flow": null,
            "grid_area": null,
            "grid_template_columns": null,
            "flex": null,
            "_model_name": "LayoutModel",
            "justify_items": null,
            "grid_row": null,
            "max_height": null,
            "align_content": null,
            "visibility": null,
            "align_self": null,
            "height": null,
            "min_height": null,
            "padding": null,
            "grid_auto_rows": null,
            "grid_gap": null,
            "max_width": null,
            "order": null,
            "_view_module_version": "1.2.0",
            "grid_template_areas": null,
            "object_position": null,
            "object_fit": null,
            "grid_auto_columns": null,
            "margin": null,
            "display": null,
            "left": null
          }
        },
        "104939fa97e34322801dbe00d1aa2fff": {
          "model_module": "@jupyter-widgets/controls",
          "model_name": "HBoxModel",
          "state": {
            "_view_name": "HBoxView",
            "_dom_classes": [],
            "_model_name": "HBoxModel",
            "_view_module": "@jupyter-widgets/controls",
            "_model_module_version": "1.5.0",
            "_view_count": null,
            "_view_module_version": "1.5.0",
            "box_style": "",
            "layout": "IPY_MODEL_9b8a2ca232a24a92a6d203117b924a0f",
            "_model_module": "@jupyter-widgets/controls",
            "children": [
              "IPY_MODEL_271ed613265449c3a343320f846c8fb0",
              "IPY_MODEL_55b4ef93361e482a994af2a399eb7f30"
            ]
          }
        },
        "9b8a2ca232a24a92a6d203117b924a0f": {
          "model_module": "@jupyter-widgets/base",
          "model_name": "LayoutModel",
          "state": {
            "_view_name": "LayoutView",
            "grid_template_rows": null,
            "right": null,
            "justify_content": null,
            "_view_module": "@jupyter-widgets/base",
            "overflow": null,
            "_model_module_version": "1.2.0",
            "_view_count": null,
            "flex_flow": null,
            "width": null,
            "min_width": null,
            "border": null,
            "align_items": null,
            "bottom": null,
            "_model_module": "@jupyter-widgets/base",
            "top": null,
            "grid_column": null,
            "overflow_y": null,
            "overflow_x": null,
            "grid_auto_flow": null,
            "grid_area": null,
            "grid_template_columns": null,
            "flex": null,
            "_model_name": "LayoutModel",
            "justify_items": null,
            "grid_row": null,
            "max_height": null,
            "align_content": null,
            "visibility": null,
            "align_self": null,
            "height": null,
            "min_height": null,
            "padding": null,
            "grid_auto_rows": null,
            "grid_gap": null,
            "max_width": null,
            "order": null,
            "_view_module_version": "1.2.0",
            "grid_template_areas": null,
            "object_position": null,
            "object_fit": null,
            "grid_auto_columns": null,
            "margin": null,
            "display": null,
            "left": null
          }
        },
        "271ed613265449c3a343320f846c8fb0": {
          "model_module": "@jupyter-widgets/controls",
          "model_name": "FloatProgressModel",
          "state": {
            "_view_name": "ProgressView",
            "style": "IPY_MODEL_138df13c61d24c62892f9c129a898731",
            "_dom_classes": [],
            "description": "",
            "_model_name": "FloatProgressModel",
            "bar_style": "info",
            "max": 1,
            "_view_module": "@jupyter-widgets/controls",
            "_model_module_version": "1.5.0",
            "value": 1,
            "_view_count": null,
            "_view_module_version": "1.5.0",
            "orientation": "horizontal",
            "min": 0,
            "description_tooltip": null,
            "_model_module": "@jupyter-widgets/controls",
            "layout": "IPY_MODEL_6c14c07e7b244a74847f19b9239d8156"
          }
        },
        "55b4ef93361e482a994af2a399eb7f30": {
          "model_module": "@jupyter-widgets/controls",
          "model_name": "HTMLModel",
          "state": {
            "_view_name": "HTMLView",
            "style": "IPY_MODEL_95c43945d188436da3e4b3186e629076",
            "_dom_classes": [],
            "description": "",
            "_model_name": "HTMLModel",
            "placeholder": "​",
            "_view_module": "@jupyter-widgets/controls",
            "_model_module_version": "1.5.0",
            "value": " 170500096/? [00:13&lt;00:00, 55758572.65it/s]",
            "_view_count": null,
            "_view_module_version": "1.5.0",
            "description_tooltip": null,
            "_model_module": "@jupyter-widgets/controls",
            "layout": "IPY_MODEL_b508b4300be3491aaf57c5fbd4207231"
          }
        },
        "138df13c61d24c62892f9c129a898731": {
          "model_module": "@jupyter-widgets/controls",
          "model_name": "ProgressStyleModel",
          "state": {
            "_view_name": "StyleView",
            "_model_name": "ProgressStyleModel",
            "description_width": "initial",
            "_view_module": "@jupyter-widgets/base",
            "_model_module_version": "1.5.0",
            "_view_count": null,
            "_view_module_version": "1.2.0",
            "bar_color": null,
            "_model_module": "@jupyter-widgets/controls"
          }
        },
        "6c14c07e7b244a74847f19b9239d8156": {
          "model_module": "@jupyter-widgets/base",
          "model_name": "LayoutModel",
          "state": {
            "_view_name": "LayoutView",
            "grid_template_rows": null,
            "right": null,
            "justify_content": null,
            "_view_module": "@jupyter-widgets/base",
            "overflow": null,
            "_model_module_version": "1.2.0",
            "_view_count": null,
            "flex_flow": null,
            "width": null,
            "min_width": null,
            "border": null,
            "align_items": null,
            "bottom": null,
            "_model_module": "@jupyter-widgets/base",
            "top": null,
            "grid_column": null,
            "overflow_y": null,
            "overflow_x": null,
            "grid_auto_flow": null,
            "grid_area": null,
            "grid_template_columns": null,
            "flex": null,
            "_model_name": "LayoutModel",
            "justify_items": null,
            "grid_row": null,
            "max_height": null,
            "align_content": null,
            "visibility": null,
            "align_self": null,
            "height": null,
            "min_height": null,
            "padding": null,
            "grid_auto_rows": null,
            "grid_gap": null,
            "max_width": null,
            "order": null,
            "_view_module_version": "1.2.0",
            "grid_template_areas": null,
            "object_position": null,
            "object_fit": null,
            "grid_auto_columns": null,
            "margin": null,
            "display": null,
            "left": null
          }
        },
        "95c43945d188436da3e4b3186e629076": {
          "model_module": "@jupyter-widgets/controls",
          "model_name": "DescriptionStyleModel",
          "state": {
            "_view_name": "StyleView",
            "_model_name": "DescriptionStyleModel",
            "description_width": "",
            "_view_module": "@jupyter-widgets/base",
            "_model_module_version": "1.5.0",
            "_view_count": null,
            "_view_module_version": "1.2.0",
            "_model_module": "@jupyter-widgets/controls"
          }
        },
        "b508b4300be3491aaf57c5fbd4207231": {
          "model_module": "@jupyter-widgets/base",
          "model_name": "LayoutModel",
          "state": {
            "_view_name": "LayoutView",
            "grid_template_rows": null,
            "right": null,
            "justify_content": null,
            "_view_module": "@jupyter-widgets/base",
            "overflow": null,
            "_model_module_version": "1.2.0",
            "_view_count": null,
            "flex_flow": null,
            "width": null,
            "min_width": null,
            "border": null,
            "align_items": null,
            "bottom": null,
            "_model_module": "@jupyter-widgets/base",
            "top": null,
            "grid_column": null,
            "overflow_y": null,
            "overflow_x": null,
            "grid_auto_flow": null,
            "grid_area": null,
            "grid_template_columns": null,
            "flex": null,
            "_model_name": "LayoutModel",
            "justify_items": null,
            "grid_row": null,
            "max_height": null,
            "align_content": null,
            "visibility": null,
            "align_self": null,
            "height": null,
            "min_height": null,
            "padding": null,
            "grid_auto_rows": null,
            "grid_gap": null,
            "max_width": null,
            "order": null,
            "_view_module_version": "1.2.0",
            "grid_template_areas": null,
            "object_position": null,
            "object_fit": null,
            "grid_auto_columns": null,
            "margin": null,
            "display": null,
            "left": null
          }
        }
      }
    },
    "accelerator": "GPU"
  },
  "cells": [
    {
      "cell_type": "markdown",
      "metadata": {
        "id": "view-in-github",
        "colab_type": "text"
      },
      "source": [
        "<a href=\"https://colab.research.google.com/github/ajaykumar6666/Yann-LeCun-LeNet-on-CIFAR10/blob/main/LeNet.ipynb\" target=\"_parent\"><img src=\"https://colab.research.google.com/assets/colab-badge.svg\" alt=\"Open In Colab\"/></a>"
      ]
    },
    {
      "cell_type": "code",
      "metadata": {
        "id": "ZoFJzDywbmhM"
      },
      "source": [
        "import torchvision\r\n",
        "import torch\r\n",
        "import matplotlib.pyplot as plt\r\n",
        "import numpy as np\r\n",
        "import torchvision.transforms as transforms"
      ],
      "execution_count": 1,
      "outputs": []
    },
    {
      "cell_type": "code",
      "metadata": {
        "colab": {
          "base_uri": "https://localhost:8080/",
          "height": 104,
          "referenced_widgets": [
            "e9a4e33f4c354bb1954ca8efd55cf2fa",
            "1c6df55e50c04ca8895684bd73a37a7c",
            "55bf241829f149eeae8402421985416f",
            "b19f21967bea42978e3dd5410ab2133e",
            "81dc62b4ad624768be508364a863ac23",
            "bc8233f957ad4db0a910a25db914c5d0",
            "541bb520a3054ca99c0709c74885ce7e",
            "336acbb34e9548fe9b7d8a4bd269421f"
          ]
        },
        "id": "G2hmUTdugbB8",
        "outputId": "37495504-9f9b-42da-db9c-62c27dc5deb4"
      },
      "source": [
        "trainset=torchvision.datasets.CIFAR10('/content/sample_data',train=True,download=True,transform=transforms.ToTensor())"
      ],
      "execution_count": 2,
      "outputs": [
        {
          "output_type": "stream",
          "text": [
            "Downloading https://www.cs.toronto.edu/~kriz/cifar-10-python.tar.gz to /content/sample_data/cifar-10-python.tar.gz\n"
          ],
          "name": "stdout"
        },
        {
          "output_type": "display_data",
          "data": {
            "application/vnd.jupyter.widget-view+json": {
              "model_id": "e9a4e33f4c354bb1954ca8efd55cf2fa",
              "version_minor": 0,
              "version_major": 2
            },
            "text/plain": [
              "HBox(children=(FloatProgress(value=1.0, bar_style='info', max=1.0), HTML(value='')))"
            ]
          },
          "metadata": {
            "tags": []
          }
        },
        {
          "output_type": "stream",
          "text": [
            "Extracting /content/sample_data/cifar-10-python.tar.gz to /content/sample_data\n"
          ],
          "name": "stdout"
        }
      ]
    },
    {
      "cell_type": "code",
      "metadata": {
        "colab": {
          "base_uri": "https://localhost:8080/"
        },
        "id": "0jOX5lYqgwtW",
        "outputId": "9525fc55-b0a3-4c52-da90-4999b9e84e94"
      },
      "source": [
        "trainset"
      ],
      "execution_count": 3,
      "outputs": [
        {
          "output_type": "execute_result",
          "data": {
            "text/plain": [
              "Dataset CIFAR10\n",
              "    Number of datapoints: 50000\n",
              "    Root location: /content/sample_data\n",
              "    Split: Train\n",
              "    StandardTransform\n",
              "Transform: ToTensor()"
            ]
          },
          "metadata": {
            "tags": []
          },
          "execution_count": 3
        }
      ]
    },
    {
      "cell_type": "code",
      "metadata": {
        "id": "10Amniobg64o"
      },
      "source": [
        "trainloader=torch.utils.data.DataLoader(trainset,batch_size=4,shuffle=True)"
      ],
      "execution_count": null,
      "outputs": []
    },
    {
      "cell_type": "code",
      "metadata": {
        "id": "X-hQ6kQsheEL"
      },
      "source": [
        "images,labels=next(iter(trainloader))"
      ],
      "execution_count": null,
      "outputs": []
    },
    {
      "cell_type": "code",
      "metadata": {
        "colab": {
          "base_uri": "https://localhost:8080/"
        },
        "id": "rB7eyKt3hirA",
        "outputId": "875d38be-a540-4851-8438-0eb790d25672"
      },
      "source": [
        "images.shape"
      ],
      "execution_count": null,
      "outputs": [
        {
          "output_type": "execute_result",
          "data": {
            "text/plain": [
              "torch.Size([10, 3, 32, 32])"
            ]
          },
          "metadata": {
            "tags": []
          },
          "execution_count": 10
        }
      ]
    },
    {
      "cell_type": "code",
      "metadata": {
        "colab": {
          "base_uri": "https://localhost:8080/"
        },
        "id": "eeERyITThnY_",
        "outputId": "e092ffa8-6316-4e76-d9f6-7a8005a3d6f2"
      },
      "source": [
        "images[0].shape"
      ],
      "execution_count": null,
      "outputs": [
        {
          "output_type": "execute_result",
          "data": {
            "text/plain": [
              "torch.Size([3, 32, 32])"
            ]
          },
          "metadata": {
            "tags": []
          },
          "execution_count": 11
        }
      ]
    },
    {
      "cell_type": "code",
      "metadata": {
        "id": "1pwPpEoDhsko"
      },
      "source": [
        "classes=trainset.classes"
      ],
      "execution_count": 4,
      "outputs": []
    },
    {
      "cell_type": "code",
      "metadata": {
        "id": "C1Yp1h1ChvGY"
      },
      "source": [
        "class_indx=trainset.class_to_idx"
      ],
      "execution_count": 5,
      "outputs": []
    },
    {
      "cell_type": "code",
      "metadata": {
        "colab": {
          "base_uri": "https://localhost:8080/"
        },
        "id": "8ktV_AKnh1Pg",
        "outputId": "36e5071e-c960-40bb-e104-016ed412d7cc"
      },
      "source": [
        "class_indx"
      ],
      "execution_count": 6,
      "outputs": [
        {
          "output_type": "execute_result",
          "data": {
            "text/plain": [
              "{'airplane': 0,\n",
              " 'automobile': 1,\n",
              " 'bird': 2,\n",
              " 'cat': 3,\n",
              " 'deer': 4,\n",
              " 'dog': 5,\n",
              " 'frog': 6,\n",
              " 'horse': 7,\n",
              " 'ship': 8,\n",
              " 'truck': 9}"
            ]
          },
          "metadata": {
            "tags": []
          },
          "execution_count": 6
        }
      ]
    },
    {
      "cell_type": "code",
      "metadata": {
        "colab": {
          "base_uri": "https://localhost:8080/"
        },
        "id": "68Zcp73KoqaK",
        "outputId": "9607e6bd-a5ff-427a-9e37-c7acabab8727"
      },
      "source": [
        "img=images[0].numpy()\r\n",
        "print(img.shape)\r\n",
        "print(type(img))\r\n",
        "print(type(images[0]))"
      ],
      "execution_count": null,
      "outputs": [
        {
          "output_type": "stream",
          "text": [
            "(3, 32, 32)\n",
            "<class 'numpy.ndarray'>\n",
            "<class 'torch.Tensor'>\n"
          ],
          "name": "stdout"
        }
      ]
    },
    {
      "cell_type": "code",
      "metadata": {
        "id": "-0huMMcSh2Gc"
      },
      "source": [
        "def get_image(image,title):\r\n",
        "  image=image.numpy()\r\n",
        "  img=np.transpose(image,(1,2,0))\r\n",
        "  plt.imshow(img)\r\n",
        "  plt.title(title)\r\n",
        "  plt.show()"
      ],
      "execution_count": 7,
      "outputs": []
    },
    {
      "cell_type": "code",
      "metadata": {
        "colab": {
          "base_uri": "https://localhost:8080/"
        },
        "id": "FWakCfitI2ZQ",
        "outputId": "6915aeb8-1857-4a93-9820-92568e542c63"
      },
      "source": [
        "labels[0]"
      ],
      "execution_count": null,
      "outputs": [
        {
          "output_type": "execute_result",
          "data": {
            "text/plain": [
              "tensor(3, device='cuda:0')"
            ]
          },
          "metadata": {
            "tags": []
          },
          "execution_count": 49
        }
      ]
    },
    {
      "cell_type": "code",
      "metadata": {
        "colab": {
          "base_uri": "https://localhost:8080/",
          "height": 281
        },
        "id": "OLfA_LYLIPVn",
        "outputId": "590bb492-261a-4dc8-a73b-de7f894e2883"
      },
      "source": [
        "get_image(images[0],classes[labels[0]])"
      ],
      "execution_count": null,
      "outputs": [
        {
          "output_type": "display_data",
          "data": {
            "image/png": "[encoded data removed]",
            "text/plain": [
              "<Figure size 432x288 with 1 Axes>"
            ]
          },
          "metadata": {
            "tags": [],
            "needs_background": "light"
          }
        }
      ]
    },
    {
      "cell_type": "code",
      "metadata": {
        "id": "sf1gY6VrG3cQ"
      },
      "source": [
        "from torchvision.utils import make_grid"
      ],
      "execution_count": 8,
      "outputs": []
    },
    {
      "cell_type": "code",
      "metadata": {
        "colab": {
          "base_uri": "https://localhost:8080/",
          "height": 151
        },
        "id": "cxb5sZ4bqq55",
        "outputId": "7e2a3105-7d72-47f9-b04e-db67465e8af1"
      },
      "source": [
        "get_image(make_grid(images),[classes[labels[j]] for j in range(len(labels))])"
      ],
      "execution_count": null,
      "outputs": [
        {
          "output_type": "display_data",
          "data": {
            "image/png": "[encoded data removed]",
            "text/plain": [
              "<Figure size 432x288 with 1 Axes>"
            ]
          },
          "metadata": {
            "tags": [],
            "needs_background": "light"
          }
        }
      ]
    },
    {
      "cell_type": "code",
      "metadata": {
        "colab": {
          "base_uri": "https://localhost:8080/"
        },
        "id": "Mn6GeGPEiI70",
        "outputId": "4a7e96d0-52da-45f7-df76-23e019a18c07"
      },
      "source": [
        "print(images.shape)\r\n",
        "print(labels.shape)\r\n",
        "print(images[0].shape)"
      ],
      "execution_count": null,
      "outputs": [
        {
          "output_type": "stream",
          "text": [
            "torch.Size([4, 3, 32, 32])\n",
            "torch.Size([4])\n",
            "torch.Size([3, 32, 32])\n"
          ],
          "name": "stdout"
        }
      ]
    },
    {
      "cell_type": "code",
      "metadata": {
        "id": "Deg2yI2AiKKV"
      },
      "source": [
        "import torch.nn as nn"
      ],
      "execution_count": 9,
      "outputs": []
    },
    {
      "cell_type": "code",
      "metadata": {
        "id": "Vqkcp8PEiO8O"
      },
      "source": [
        "class FirstCNN(nn.Module):\r\n",
        "  def __init__(self):\r\n",
        "    super(FirstCNN,self).__init__()\r\n",
        "    self.conv1=nn.Conv2d(3,16,3) ##input channel size=3 (R,G,B), 16 indicates output and last 3 indicates kernel size(3 * 3)\r\n",
        "\r\n",
        "  def forward(self,x):\r\n",
        "    x=self.conv1(x)\r\n",
        "    return x"
      ],
      "execution_count": null,
      "outputs": []
    },
    {
      "cell_type": "code",
      "metadata": {
        "id": "VfDyhDyYKPBL"
      },
      "source": [
        "cnn=FirstCNN()"
      ],
      "execution_count": null,
      "outputs": []
    },
    {
      "cell_type": "code",
      "metadata": {
        "colab": {
          "base_uri": "https://localhost:8080/"
        },
        "id": "byuc2KTkKQl7",
        "outputId": "2595cb92-0c42-43cf-d023-0d0370522e36"
      },
      "source": [
        "cnn"
      ],
      "execution_count": null,
      "outputs": [
        {
          "output_type": "execute_result",
          "data": {
            "text/plain": [
              "FirstCNN(\n",
              "  (conv1): Conv2d(3, 16, kernel_size=(3, 3), stride=(1, 1))\n",
              ")"
            ]
          },
          "metadata": {
            "tags": []
          },
          "execution_count": 56
        }
      ]
    },
    {
      "cell_type": "code",
      "metadata": {
        "id": "OThN3DYUKRY0"
      },
      "source": [
        "out=cnn(images)"
      ],
      "execution_count": null,
      "outputs": []
    },
    {
      "cell_type": "code",
      "metadata": {
        "colab": {
          "base_uri": "https://localhost:8080/"
        },
        "id": "k9W-clFcKVOA",
        "outputId": "a12415c6-c33f-4932-e8c6-0cd691571040"
      },
      "source": [
        "out.shape"
      ],
      "execution_count": null,
      "outputs": [
        {
          "output_type": "execute_result",
          "data": {
            "text/plain": [
              "torch.Size([4, 16, 30, 30])"
            ]
          },
          "metadata": {
            "tags": []
          },
          "execution_count": 58
        }
      ]
    },
    {
      "cell_type": "code",
      "metadata": {
        "colab": {
          "base_uri": "https://localhost:8080/"
        },
        "id": "V4Bu4hEkKV9O",
        "outputId": "7dd1cdfa-b9f3-451a-d1a2-80eb0994eb50"
      },
      "source": [
        "for param in cnn.parameters():\r\n",
        "  print(param.shape)"
      ],
      "execution_count": null,
      "outputs": [
        {
          "output_type": "stream",
          "text": [
            "torch.Size([16, 3, 3, 3])\n",
            "torch.Size([16])\n"
          ],
          "name": "stdout"
        }
      ]
    },
    {
      "cell_type": "code",
      "metadata": {
        "id": "KcPZJIbwPtaA"
      },
      "source": [
        "class FirstCNN_V2(nn.Module):\r\n",
        "  def __init__(self):\r\n",
        "    super(FirstCNN_V2,self).__init__()\r\n",
        "    self.model = nn.Sequential(\r\n",
        "        nn.Conv2d(3,8,3), #(N,3,32,32) --> (N,8,30,30) no padding \r\n",
        "        nn.Conv2d(8,16,3) #(N,8,30,30) --> (N,16,28,28) no padding \r\n",
        "    )\r\n",
        "\r\n",
        "  def forward(self,x):\r\n",
        "    x=self.model(x)\r\n",
        "    return x"
      ],
      "execution_count": null,
      "outputs": []
    },
    {
      "cell_type": "code",
      "metadata": {
        "id": "Rf2I5cqrRxYi"
      },
      "source": [
        "net=FirstCNN_V2()"
      ],
      "execution_count": null,
      "outputs": []
    },
    {
      "cell_type": "code",
      "metadata": {
        "id": "Vg_fDqChR1e1"
      },
      "source": [
        "out=net(images)"
      ],
      "execution_count": null,
      "outputs": []
    },
    {
      "cell_type": "code",
      "metadata": {
        "colab": {
          "base_uri": "https://localhost:8080/"
        },
        "id": "SdnuAizZS9TM",
        "outputId": "598fab1b-7b9e-4a10-a3c4-99cc23d2754f"
      },
      "source": [
        "out.shape"
      ],
      "execution_count": null,
      "outputs": [
        {
          "output_type": "execute_result",
          "data": {
            "text/plain": [
              "torch.Size([4, 16, 28, 28])"
            ]
          },
          "metadata": {
            "tags": []
          },
          "execution_count": 113
        }
      ]
    },
    {
      "cell_type": "code",
      "metadata": {
        "id": "lQ4Oq5LMTGPV"
      },
      "source": [
        "class FirstCNN_V2(nn.Module):\r\n",
        "  def __init__(self):\r\n",
        "    super(FirstCNN_V2,self).__init__()\r\n",
        "    self.model = nn.Sequential(\r\n",
        "        nn.Conv2d(3,6,5),                      #(N,3,32,32) --> (N,6,28,28) no padding \r\n",
        "        nn.AvgPool2d(2,stride=2),              #(N,6,28,28) ---> (N,6,14,14)\r\n",
        "        nn.Conv2d(6,16,5),                     #(N,6,14,14) --> (N,16,10,10) no padding \r\n",
        "        nn.AvgPool2d(2,stride=2)               # (N,16,10,10) --> (N,16,5,5)\r\n",
        "    )\r\n",
        " \r\n",
        "  def forward(self,x):  \r\n",
        "    x=self.model(x)\r\n",
        "    return x"
      ],
      "execution_count": null,
      "outputs": []
    },
    {
      "cell_type": "code",
      "metadata": {
        "id": "1GfBExRJbsg0"
      },
      "source": [
        "model=FirstCNN_V2()"
      ],
      "execution_count": null,
      "outputs": []
    },
    {
      "cell_type": "code",
      "metadata": {
        "id": "ilPrUaTvbvvs"
      },
      "source": [
        "out=model(images)"
      ],
      "execution_count": null,
      "outputs": []
    },
    {
      "cell_type": "code",
      "metadata": {
        "colab": {
          "base_uri": "https://localhost:8080/"
        },
        "id": "kc9ghaxRbxu2",
        "outputId": "430c810e-a930-447a-ef43-d8815d38e63a"
      },
      "source": [
        "out.shape"
      ],
      "execution_count": null,
      "outputs": [
        {
          "output_type": "execute_result",
          "data": {
            "text/plain": [
              "torch.Size([4, 16, 5, 5])"
            ]
          },
          "metadata": {
            "tags": []
          },
          "execution_count": 118
        }
      ]
    },
    {
      "cell_type": "markdown",
      "metadata": {
        "id": "-ULwqNQ_a2or"
      },
      "source": [
        "**LeNet Architecture**"
      ]
    },
    {
      "cell_type": "code",
      "metadata": {
        "id": "qpZFTIhTb13T"
      },
      "source": [
        "class LeNet(nn.Module):\r\n",
        "  def __init__(self):\r\n",
        "    super(LeNet,self).__init__()\r\n",
        "    self.cnn_model=nn.Sequential(\r\n",
        "        nn.Conv2d(3,6,5),                         # (N,3,32,32) --> (N,6,28,28)\r\n",
        "        nn.Tanh(),                                # (N,6,28,28) --> (N,6,28,28)\r\n",
        "        nn.AvgPool2d(2,stride=2),                 # (N,6,28,28) --> (N,6,14,14)\r\n",
        "        nn.Conv2d(6,16,5),                        # (N,6,14,14) --> (N,16,10,10)\r\n",
        "        nn.Tanh(),                                # (N,16,10,10)--> (N,16,10,10)\r\n",
        "        nn.AvgPool2d(2,stride=2)                  # (N,16,10,10) --> (N,16,5,5)\r\n",
        "    )\r\n",
        "    # The output from the convolution layer is 400 (16*5*5)\r\n",
        "    self.fcc_model=nn.Sequential(\r\n",
        "        nn.Linear(400,120),                       # (N,400) --> (N,120)\r\n",
        "        nn.Tanh(),                                # (N,120) --> (N,120)\r\n",
        "        nn.Linear(120,84),                        # (N,120) --> (N,84)\r\n",
        "        nn.Tanh(),                                # (N,84) --> (N,84)\r\n",
        "        nn.Linear(84,10)                          # (N,84) --> (N,10)\r\n",
        "    )\r\n",
        "  def forward(self,x):\r\n",
        "   # print(x.shape)\r\n",
        "    x=self.cnn_model(x)\r\n",
        "    #print(x.shape)                                # (N,16,5,5)  \r\n",
        "    x=x.view(x.size(0),-1) ## view function is used to reshape tensors. (N,400)\r\n",
        "    # The first dimension 'N' remains same and everything else is collapsed to a single dimension\r\n",
        "    x=self.fcc_model(x)\r\n",
        "   # print(x.shape) #(N,10)\r\n",
        "    return x\r\n",
        "  \r\n"
      ],
      "execution_count": 10,
      "outputs": []
    },
    {
      "cell_type": "code",
      "metadata": {
        "id": "NhnSa_GBg3uh"
      },
      "source": [
        "device=torch.device('cuda:0' if torch.cuda.is_available() else 'cpu')"
      ],
      "execution_count": 11,
      "outputs": []
    },
    {
      "cell_type": "code",
      "metadata": {
        "colab": {
          "base_uri": "https://localhost:8080/",
          "height": 101,
          "referenced_widgets": [
            "104939fa97e34322801dbe00d1aa2fff",
            "9b8a2ca232a24a92a6d203117b924a0f",
            "271ed613265449c3a343320f846c8fb0",
            "55b4ef93361e482a994af2a399eb7f30",
            "138df13c61d24c62892f9c129a898731",
            "6c14c07e7b244a74847f19b9239d8156",
            "95c43945d188436da3e4b3186e629076",
            "b508b4300be3491aaf57c5fbd4207231"
          ]
        },
        "id": "M9M266O1kX4r",
        "outputId": "cdcbb21a-4bdb-467b-d185-3f11baaeea45"
      },
      "source": [
        "batch_size=128\r\n",
        "trainset=torchvision.datasets.CIFAR10('./data',train=True,download=True,transform=transforms.ToTensor())\r\n",
        "testset=torchvision.datasets.CIFAR10('./data',train=False,download=True,transform=transforms.ToTensor())"
      ],
      "execution_count": 12,
      "outputs": [
        {
          "output_type": "stream",
          "text": [
            "Downloading https://www.cs.toronto.edu/~kriz/cifar-10-python.tar.gz to ./data/cifar-10-python.tar.gz\n"
          ],
          "name": "stdout"
        },
        {
          "output_type": "display_data",
          "data": {
            "application/vnd.jupyter.widget-view+json": {
              "model_id": "104939fa97e34322801dbe00d1aa2fff",
              "version_minor": 0,
              "version_major": 2
            },
            "text/plain": [
              "HBox(children=(FloatProgress(value=1.0, bar_style='info', max=1.0), HTML(value='')))"
            ]
          },
          "metadata": {
            "tags": []
          }
        },
        {
          "output_type": "stream",
          "text": [
            "Extracting ./data/cifar-10-python.tar.gz to ./data\n",
            "Files already downloaded and verified\n"
          ],
          "name": "stdout"
        }
      ]
    },
    {
      "cell_type": "code",
      "metadata": {
        "id": "CmRZ9llZliw_"
      },
      "source": [
        "trainloader=torch.utils.data.DataLoader(trainset,shuffle=True,batch_size=batch_size)\r\n",
        "testloader=torch.utils.data.DataLoader(testset,shuffle=False,batch_size=batch_size)"
      ],
      "execution_count": 13,
      "outputs": []
    },
    {
      "cell_type": "code",
      "metadata": {
        "id": "eM8uuYB74vAE"
      },
      "source": [
        "model=LeNet()\r\n",
        "model=model.to(device)"
      ],
      "execution_count": 14,
      "outputs": []
    },
    {
      "cell_type": "code",
      "metadata": {
        "id": "lFwBKb5smCVE"
      },
      "source": [
        "def evaluation(dataloader):\r\n",
        "  total,correct=0,0\r\n",
        "  for data in dataloader:\r\n",
        "    inputs ,labels=data\r\n",
        "    inputs,labels=inputs.to(device),labels.to(device)\r\n",
        "    outputs=model(inputs)\r\n",
        "    _,preds_classes=torch.max(outputs.data,1)\r\n",
        "    total+=labels.size(0)\r\n",
        "    correct=(preds_classes==labels).sum().item()\r\n",
        "    return 100*(correct/total)"
      ],
      "execution_count": 15,
      "outputs": []
    },
    {
      "cell_type": "code",
      "metadata": {
        "id": "1sILrS9pxzPi"
      },
      "source": [
        "import torch.optim as optim"
      ],
      "execution_count": 16,
      "outputs": []
    },
    {
      "cell_type": "code",
      "metadata": {
        "id": "WGn5YHtXx44A"
      },
      "source": [
        "loss_fn=nn.CrossEntropyLoss()"
      ],
      "execution_count": 17,
      "outputs": []
    },
    {
      "cell_type": "code",
      "metadata": {
        "id": "HGkzvyycx7be"
      },
      "source": [
        "opt=optim.Adam(model.parameters())"
      ],
      "execution_count": 18,
      "outputs": []
    },
    {
      "cell_type": "code",
      "metadata": {
        "colab": {
          "base_uri": "https://localhost:8080/"
        },
        "id": "_yc6xyc7yCSB",
        "outputId": "52be281f-d025-4ea2-c25b-6aeded5a2773"
      },
      "source": [
        "%%time\r\n",
        "loss_arr=[]\r\n",
        "loss_epoch_arr=[]\r\n",
        "max_epochs=16\r\n",
        "for epoch in range(max_epochs):\r\n",
        "\r\n",
        "  for i in trainloader:\r\n",
        "\r\n",
        "    images,labels=i\r\n",
        "    images,labels=images.to(device),labels.to(device)\r\n",
        "    opt.zero_grad()\r\n",
        "    outputs=model(images)\r\n",
        "    loss=loss_fn(outputs,labels)\r\n",
        "    loss.backward()\r\n",
        "\r\n",
        "    opt.step()\r\n",
        "\r\n",
        "    loss_arr.append(loss.item())\r\n",
        "\r\n",
        "  loss_epoch_arr.append(loss.item())\r\n",
        "\r\n",
        "  print(\"Epoch : %d/%d  Test Accuracy : %0.2f  Train Accuracy : %0.2f\" %(epoch,max_epochs,evaluation(trainloader),evaluation(testloader)))"
      ],
      "execution_count": 19,
      "outputs": [
        {
          "output_type": "stream",
          "text": [
            "Epoch : 0/16  Test Accuracy : 42.19  Train Accuracy : 42.19\n",
            "Epoch : 1/16  Test Accuracy : 50.78  Train Accuracy : 46.88\n",
            "Epoch : 2/16  Test Accuracy : 58.59  Train Accuracy : 47.66\n",
            "Epoch : 3/16  Test Accuracy : 47.66  Train Accuracy : 50.78\n",
            "Epoch : 4/16  Test Accuracy : 46.09  Train Accuracy : 54.69\n",
            "Epoch : 5/16  Test Accuracy : 51.56  Train Accuracy : 57.03\n",
            "Epoch : 6/16  Test Accuracy : 56.25  Train Accuracy : 60.16\n",
            "Epoch : 7/16  Test Accuracy : 60.16  Train Accuracy : 60.16\n",
            "Epoch : 8/16  Test Accuracy : 52.34  Train Accuracy : 57.03\n",
            "Epoch : 9/16  Test Accuracy : 57.81  Train Accuracy : 55.47\n",
            "Epoch : 10/16  Test Accuracy : 57.81  Train Accuracy : 58.59\n",
            "Epoch : 11/16  Test Accuracy : 57.03  Train Accuracy : 62.50\n",
            "Epoch : 12/16  Test Accuracy : 58.59  Train Accuracy : 62.50\n",
            "Epoch : 13/16  Test Accuracy : 65.62  Train Accuracy : 60.94\n",
            "Epoch : 14/16  Test Accuracy : 61.72  Train Accuracy : 56.25\n",
            "Epoch : 15/16  Test Accuracy : 75.78  Train Accuracy : 57.03\n",
            "CPU times: user 1min 33s, sys: 650 ms, total: 1min 33s\n",
            "Wall time: 1min 34s\n"
          ],
          "name": "stdout"
        }
      ]
    },
    {
      "cell_type": "code",
      "metadata": {
        "colab": {
          "base_uri": "https://localhost:8080/",
          "height": 265
        },
        "id": "nPHl4vfXzM0B",
        "outputId": "caf972fe-aac1-4838-d67f-13cd25ddbc26"
      },
      "source": [
        "plt.plot(loss_epoch_arr)\r\n",
        "plt.show()"
      ],
      "execution_count": 20,
      "outputs": [
        {
          "output_type": "display_data",
          "data": {
            "image/png": "[encoded data removed]",
            "text/plain": [
              "<Figure size 432x288 with 1 Axes>"
            ]
          },
          "metadata": {
            "tags": [],
            "needs_background": "light"
          }
        }
      ]
    },
    {
      "cell_type": "code",
      "metadata": {
        "id": "8mv5_3LuZBN8"
      },
      "source": [
        "from PIL import Image\r\n",
        "import torchvision.transforms.functional as TF"
      ],
      "execution_count": 21,
      "outputs": []
    },
    {
      "cell_type": "code",
      "metadata": {
        "id": "notlMI-ybTj8"
      },
      "source": [
        "## Just add the path for the file(image)"
      ],
      "execution_count": null,
      "outputs": []
    },
    {
      "cell_type": "code",
      "metadata": {
        "id": "UDH27o0R7Vp6"
      },
      "source": [
        "def predictions():\r\n",
        "  image = Image.open('/content/dog.jpg') \r\n",
        "  x = TF.to_tensor(image)\r\n",
        "  t=transforms.Scale((32,32))\r\n",
        "  t=t(x)\r\n",
        "  t=t.reshape(1,3,32,32)\r\n",
        "  get_image(t[0],0)\r\n",
        "  t=t.to(device)\r\n",
        "  out=model(t)\r\n",
        "  _,pred_classes=torch.max(out.data,1)\r\n",
        "  print(pred_classes)\r\n",
        "  return classes[pred_classes]"
      ],
      "execution_count": 26,
      "outputs": []
    },
    {
      "cell_type": "code",
      "metadata": {
        "colab": {
          "base_uri": "https://localhost:8080/",
          "height": 371
        },
        "id": "t9p5zb1y_POf",
        "outputId": "fb7bb1b0-5c45-410c-8e43-c01702e3bbe1"
      },
      "source": [
        "predictions()"
      ],
      "execution_count": 27,
      "outputs": [
        {
          "output_type": "stream",
          "text": [
            "/usr/local/lib/python3.6/dist-packages/torchvision/transforms/transforms.py:280: UserWarning: The use of the transforms.Scale transform is deprecated, please use transforms.Resize instead.\n",
            "  \"please use transforms.Resize instead.\")\n"
          ],
          "name": "stderr"
        },
        {
          "output_type": "display_data",
          "data": {
            "image/png": "[encoded data removed]",
            "text/plain": [
              "<Figure size 432x288 with 1 Axes>"
            ]
          },
          "metadata": {
            "tags": [],
            "needs_background": "light"
          }
        },
        {
          "output_type": "stream",
          "text": [
            "tensor([4], device='cuda:0')\n"
          ],
          "name": "stdout"
        },
        {
          "output_type": "execute_result",
          "data": {
            "application/vnd.google.colaboratory.intrinsic+json": {
              "type": "string"
            },
            "text/plain": [
              "'deer'"
            ]
          },
          "metadata": {
            "tags": []
          },
          "execution_count": 27
        }
      ]
    },
    {
      "cell_type": "code",
      "metadata": {
        "id": "euGPJJpH_Sjc",
        "colab": {
          "base_uri": "https://localhost:8080/"
        },
        "outputId": "0d4dbd2d-0f4e-4b26-d42f-fb538a2165c2"
      },
      "source": [
        "class_indx"
      ],
      "execution_count": null,
      "outputs": [
        {
          "output_type": "execute_result",
          "data": {
            "text/plain": [
              "{'airplane': 0,\n",
              " 'automobile': 1,\n",
              " 'bird': 2,\n",
              " 'cat': 3,\n",
              " 'deer': 4,\n",
              " 'dog': 5,\n",
              " 'frog': 6,\n",
              " 'horse': 7,\n",
              " 'ship': 8,\n",
              " 'truck': 9}"
            ]
          },
          "metadata": {
            "tags": []
          },
          "execution_count": 57
        }
      ]
    },
    {
      "cell_type": "code",
      "metadata": {
        "id": "UelJivjgY0J1"
      },
      "source": [
        ""
      ],
      "execution_count": null,
      "outputs": []
    }
  ]
}